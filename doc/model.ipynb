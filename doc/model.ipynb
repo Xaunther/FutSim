{
 "cells": [
  {
   "cell_type": "markdown",
   "metadata": {},
   "source": [
    "Possession draw when team T has the ball:\n",
    " - $keepPossession(T)\\mid possession(T)$\n",
    " - $foul(T)\\mid possession(T)$\n",
    " - $counterAttack(!T)\\mid possession(T)$"
   ]
  },
  {
   "cell_type": "markdown",
   "metadata": {},
   "source": [
    "Chance draw when possession has been kept:\n",
    " - $chance(T)\\mid keepPossession(T)$\n",
    " - $!chance(T)\\mid keepPossession(T)$"
   ]
  },
  {
   "cell_type": "markdown",
   "metadata": {},
   "source": [
    "Chance draw when counterattack has triggered:\n",
    " - $chance(T)\\mid counterAttack(T)$\n",
    " - $!chance(T)\\mid counterAttack(T)$"
   ]
  },
  {
   "cell_type": "markdown",
   "metadata": {},
   "source": [
    "Card draw when foul has triggered:\n",
    " - $yellowCard(!T)\\mid foul(T)$\n",
    " - $redCard(!T)\\mid foul(T)$\n",
    " - $noCard(!T)\\mid foul(T)$"
   ]
  },
  {
   "cell_type": "markdown",
   "metadata": {},
   "source": [
    "Set piece draw when foul has triggered:\n",
    " - $setPiece(T)\\mid foul(T)$\n",
    " - $!setPiece(T)\\mid foul(T)$"
   ]
  },
  {
   "cell_type": "markdown",
   "metadata": {},
   "source": [
    "Chance type draw when chance has triggered:\n",
    " - $1vs1GK(T)\\mid chance(T)$\n",
    " - $1vs1DF(T)\\mid chance(T)$\n",
    " - $corner(T)\\mid chance(T)$\n",
    " - $nearShot(T)\\mid chance(T)$\n",
    " - $farShot(T)\\mid chance(T)$"
   ]
  },
  {
   "cell_type": "markdown",
   "metadata": {},
   "source": [
    "Set piece type draw when set piece has triggered:\n",
    " - $penalty(T)\\mid setPiece(T)$\n",
    " - $directFreeKick(T)\\mid setPiece(T)$\n",
    " - $indirectFreeKick(T)\\mid setPiece(T)$"
   ]
  },
  {
   "cell_type": "markdown",
   "metadata": {},
   "source": [
    "For every i-chance or i-setPiece (in general, $s_i$, $\\forall i=1,...,8$), draw chance outcome:\n",
    " - $goal(T)\\mid s_i$\n",
    " - $extraCornerFromGK(T)\\mid s_i$\n",
    " - $extraCornerFromDF(T)\\mid s_i$\n",
    " - $keepAttackingFromGK(T)\\mid s_i$\n",
    " - $keepAttackingFromDF(T)\\mid s_i$\n",
    " - $possessionChange(T)\\mid s_i$\n",
    "\n",
    "The distinction between GK and DF for extraCorner and keepAttacking only affects as to who intervened, but the outcome as to how the game continues is the same."
   ]
  },
  {
   "cell_type": "markdown",
   "metadata": {},
   "source": [
    "This leaves us with $3+2+2+3+2+5+3+6\\times8=68$ probabilities to determine.\n",
    "\n",
    "Since the sum of the probability in every draw must be 1, we eliminate 15 variables: $68-15=53$ remaining.\n",
    "\n",
    "We impose that $P(chance(T)\\mid keepPossession(T))=P(chance(T)\\mid counterAttack(T))$. $53-1=52$ remaining.\n",
    "\n",
    "We impose that $P(extraCornerFromGK(T)\\mid s_i)=P(extraCornerFromDF(T)\\mid s_i)=P_{XC}/2\\forall i$. $52-15=37$ remaining.\n",
    "\n",
    "We impose that $P(keepAttackingFromGK(T)\\mid s_i)=P(keepAttackingFromDF(T)\\mid s_i)=P(possessionChange(T)\\mid s_i)/2\\forall i$. $37-16=21$ remaining.\n",
    "\n",
    "These 21 constraints are taken from real data."
   ]
  },
  {
   "cell_type": "markdown",
   "metadata": {},
   "source": [
    "**Determining possession draw**\n",
    "\n",
    "From data, we determine $P(keepPossession(T)\\mid possession(T))$. $21-1=20$ remaining.\n",
    "\n",
    "From data, we determine $P(foul(T)\\mid possession(T))$. $20-1=19$ remaining."
   ]
  },
  {
   "cell_type": "markdown",
   "metadata": {},
   "source": [
    "**Determining chance draw**\n",
    "\n",
    "From data involving the open play chances, we determine $P(chance(T)\\mid possession(T))$. $19-1=18$ remaining."
   ]
  },
  {
   "cell_type": "markdown",
   "metadata": {},
   "source": [
    "**Determining card draw**\n",
    "\n",
    "From data involving the yellow cards shown, we determine $P(yellowCard(!T)\\mid foul(T))$. $18-1=17$ remaining.\n",
    "\n",
    "From data involving the red cards shown, we determine $P(redCard(!T)\\mid foul(T))$. $17-1=16$ remaining."
   ]
  },
  {
   "cell_type": "markdown",
   "metadata": {},
   "source": [
    "**Determining set piece draw**\n",
    "\n",
    "From data involving the set piece chances, we determine $P(setPiece(T)\\mid foul(T))$. $16-1=15$ remaining."
   ]
  },
  {
   "cell_type": "markdown",
   "metadata": {},
   "source": [
    "**Determining chance type draw**\n",
    "\n",
    "From data involving the chance proportion, we determine 4 of the probabilities. $15-4=11$ remaining."
   ]
  },
  {
   "cell_type": "markdown",
   "metadata": {},
   "source": [
    "**Determining chance type draw**\n",
    "\n",
    "From data involving the set piece proportion, we determine 2 of the probabilities. $11-2=9$ remaining."
   ]
  },
  {
   "cell_type": "markdown",
   "metadata": {},
   "source": [
    "**Determining chance type draw**\n",
    "\n",
    "From data involving the goal proportion, we determine $P(goal(T)\\mid s_i(T))\\forall i$. $9-8=1$ remaining.\n",
    "We determine a value for $P_{XC}$. $1-1=0$ remaining."
   ]
  },
  {
   "cell_type": "code",
   "execution_count": null,
   "metadata": {},
   "outputs": [],
   "source": [
    "import math\n",
    "# IMPOSED\n",
    "N_min = 90\n",
    "P_extraCorner_chance = 0.25\n",
    "# DATA\n",
    "N_fouls_match = 8195/380\n",
    "N_yellowCards_match = 1375/380\n",
    "N_redCards_match = 31/380\n",
    "N_chances_match = 9609/380\n",
    "N_setPieces_match = 1545/380\n",
    "N_penalties_match = 104/380\n",
    "N_directFreeKicks_match = 301/380\n",
    "N_indirectFreeKicks_match = N_setPieces_match - N_penalties_match - N_directFreeKicks_match\n",
    "N_corners_match = 3830/380\n",
    "N_1vs1GK_match = 2\n",
    "N_1vs1DF_match = 2.85\n",
    "N_nearShot_match = 3\n",
    "N_goals_match = 1039/380\n",
    "N_penaltyGoals_match = 74/380\n",
    "N_directFreeKickGoals_match = 17/380\n",
    "N_indirectFreeKickGoals_match = 38/380\n",
    "N_cornerGoals_match = 151/380\n",
    "N_farShotGoals_match = 147/380 - N_directFreeKickGoals_match\n",
    "P_goal_1vs1GK = 0.35\n",
    "P_goal_1vs1DF = 0.2\n",
    "P_keepPossession_possession = 295952/460939"
   ]
  },
  {
   "cell_type": "code",
   "execution_count": null,
   "metadata": {},
   "outputs": [],
   "source": [
    "# Possession draw\n",
    "P_keepPossession_possession = P_keepPossession_possession\n",
    "P_foul_possession = N_fouls_match / N_min\n",
    "P_counterAttack_possession = 1 - P_foul_possession - P_keepPossession_possession\n",
    "print( P_keepPossession_possession, P_foul_possession, P_counterAttack_possession )"
   ]
  },
  {
   "cell_type": "code",
   "execution_count": null,
   "metadata": {},
   "outputs": [],
   "source": [
    "# Card draw after foul\n",
    "P_yellowCard_foul = N_yellowCards_match / N_fouls_match\n",
    "P_redCard_foul = N_redCards_match / N_fouls_match\n",
    "P_noCard_foul = 1 - P_yellowCard_foul - P_redCard_foul\n",
    "print( P_yellowCard_foul, P_redCard_foul, P_noCard_foul )"
   ]
  },
  {
   "cell_type": "code",
   "execution_count": null,
   "metadata": {},
   "outputs": [],
   "source": [
    "# Set piece draw after foul\n",
    "P_setPiece_foul = N_setPieces_match / N_fouls_match\n",
    "P_noSetPiece_foul = 1 - P_setPiece_foul\n",
    "print( P_setPiece_foul, P_noSetPiece_foul )"
   ]
  },
  {
   "cell_type": "code",
   "execution_count": null,
   "metadata": {},
   "outputs": [],
   "source": [
    "# Chance draw after keeping possession\n",
    "P_chance_keepPossession = ((1-P_extraCorner_chance)*(N_chances_match/N_min)-P_foul_possession*P_setPiece_foul)/(1-P_foul_possession)\n",
    "P_noChance_keepPossession = 1 - P_chance_keepPossession\n",
    "print( P_chance_keepPossession, P_noChance_keepPossession )"
   ]
  },
  {
   "cell_type": "code",
   "execution_count": null,
   "metadata": {},
   "outputs": [],
   "source": [
    "# Chance draw after counter attack\n",
    "P_chance_counterAttack = P_chance_keepPossession\n",
    "P_noChance_counterAttack = 1 - P_chance_counterAttack\n",
    "print( P_chance_counterAttack, P_noChance_counterAttack )"
   ]
  },
  {
   "cell_type": "code",
   "execution_count": null,
   "metadata": {},
   "outputs": [],
   "source": [
    "# Set piece type draw after foul\n",
    "P_penalty_setPiece = N_penalties_match / N_setPieces_match\n",
    "P_directFreeKick_setPiece = N_directFreeKicks_match / N_setPieces_match\n",
    "P_indirectFreeKick_setPiece = 1 - P_penalty_setPiece - P_directFreeKick_setPiece\n",
    "print( P_penalty_setPiece, P_directFreeKick_setPiece, P_indirectFreeKick_setPiece )"
   ]
  },
  {
   "cell_type": "code",
   "execution_count": null,
   "metadata": {},
   "outputs": [],
   "source": [
    "# Chance type draw\n",
    "N_extraCorners_match = N_min*P_extraCorner_chance/(1-P_extraCorner_chance)*(P_chance_keepPossession*(1-P_foul_possession)+P_foul_possession*P_setPiece_foul)\n",
    "N_openPlayChances_match = N_chances_match - N_extraCorners_match - N_setPieces_match\n",
    "P_corner_chance = (1/(1-P_extraCorner_chance))*(((1-P_extraCorner_chance)*(N_corners_match/N_min)-P_extraCorner_chance*P_foul_possession*P_setPiece_foul)/(P_chance_keepPossession*(1-P_foul_possession)) - P_extraCorner_chance)\n",
    "P_1vs1GK_chance = N_1vs1GK_match/N_openPlayChances_match\n",
    "P_1vs1DF_chance = N_1vs1DF_match/N_openPlayChances_match\n",
    "P_nearShot_chance = N_nearShot_match/N_openPlayChances_match\n",
    "P_farShot_chance = 1 - P_corner_chance - P_1vs1GK_chance - P_1vs1DF_chance - P_nearShot_chance\n",
    "print( P_corner_chance, P_1vs1GK_chance, P_1vs1DF_chance, P_nearShot_chance, P_farShot_chance )"
   ]
  },
  {
   "cell_type": "code",
   "execution_count": null,
   "metadata": {},
   "outputs": [],
   "source": [
    "# Penalty outcome draw\n",
    "P_goal_penalty = N_penaltyGoals_match / N_penalties_match\n",
    "P_extraCorner_penalty = P_extraCorner_chance\n",
    "P_keepAttacking_penalty = (1 - P_goal_penalty - P_extraCorner_penalty) / 2\n",
    "P_losePossession_penalty = P_keepAttacking_penalty\n",
    "print( P_goal_penalty, P_extraCorner_penalty, P_keepAttacking_penalty, P_losePossession_penalty )"
   ]
  },
  {
   "cell_type": "code",
   "execution_count": null,
   "metadata": {},
   "outputs": [],
   "source": [
    "# Direct free kick outcome draw\n",
    "P_goal_directFreeKick = N_directFreeKickGoals_match / N_directFreeKicks_match\n",
    "P_extraCorner_directFreeKick = P_extraCorner_chance\n",
    "P_keepAttacking_directFreeKick = (1 - P_goal_directFreeKick - P_extraCorner_directFreeKick) / 2\n",
    "P_losePossession_directFreeKick = P_keepAttacking_directFreeKick\n",
    "print( P_goal_directFreeKick, P_extraCorner_directFreeKick, P_keepAttacking_directFreeKick, P_losePossession_directFreeKick )"
   ]
  },
  {
   "cell_type": "code",
   "execution_count": null,
   "metadata": {},
   "outputs": [],
   "source": [
    "# Indirect free kick outcome draw\n",
    "P_goal_indirectFreeKick = N_indirectFreeKickGoals_match / N_indirectFreeKicks_match\n",
    "P_extraCorner_indirectFreeKick = P_extraCorner_chance\n",
    "P_keepAttacking_indirectFreeKick = (1 - P_goal_indirectFreeKick - P_extraCorner_indirectFreeKick) / 2\n",
    "P_losePossession_indirectFreeKick = P_keepAttacking_indirectFreeKick\n",
    "print( P_goal_indirectFreeKick, P_extraCorner_indirectFreeKick, P_keepAttacking_indirectFreeKick, P_losePossession_indirectFreeKick )"
   ]
  },
  {
   "cell_type": "code",
   "execution_count": null,
   "metadata": {},
   "outputs": [],
   "source": [
    "# Corner kick outcome draw\n",
    "P_goal_corner = N_cornerGoals_match / N_corners_match\n",
    "P_extraCorner_corner = P_extraCorner_chance\n",
    "P_keepAttacking_corner = (1 - P_goal_corner - P_extraCorner_corner) / 2\n",
    "P_losePossession_corner = P_keepAttacking_corner\n",
    "print( P_goal_corner, P_extraCorner_corner, P_keepAttacking_corner, P_losePossession_corner )"
   ]
  },
  {
   "cell_type": "code",
   "execution_count": null,
   "metadata": {},
   "outputs": [],
   "source": [
    "# Far shot outcome draw\n",
    "P_goal_farShot = N_farShotGoals_match / (N_min * P_chance_keepPossession * P_farShot_chance * (1-P_foul_possession))\n",
    "P_extraCorner_farShot = P_extraCorner_chance\n",
    "P_keepAttacking_farShot = (1 - P_goal_farShot - P_extraCorner_farShot) / 2\n",
    "P_losePossession_farShot = P_keepAttacking_farShot\n",
    "print( P_goal_farShot, P_extraCorner_farShot, P_keepAttacking_farShot, P_losePossession_farShot )"
   ]
  },
  {
   "cell_type": "code",
   "execution_count": null,
   "metadata": {},
   "outputs": [],
   "source": [
    "# 1 on 1 vs GK outcome draw\n",
    "P_goal_1vs1GK = P_goal_1vs1GK\n",
    "P_extraCorner_1vs1GK = P_extraCorner_chance\n",
    "P_keepAttacking_1vs1GK = (1 - P_goal_1vs1GK - P_extraCorner_1vs1GK) / 2\n",
    "P_losePossession_1vs1GK = P_keepAttacking_1vs1GK\n",
    "print( P_goal_1vs1GK, P_extraCorner_1vs1GK, P_keepAttacking_1vs1GK, P_losePossession_1vs1GK )"
   ]
  },
  {
   "cell_type": "code",
   "execution_count": null,
   "metadata": {},
   "outputs": [],
   "source": [
    "# 1 on 1 vs DF outcome draw\n",
    "P_goal_1vs1DF = P_goal_1vs1DF\n",
    "P_extraCorner_1vs1DF = P_extraCorner_chance\n",
    "P_keepAttacking_1vs1DF = (1 - P_goal_1vs1DF - P_extraCorner_1vs1DF) / 2\n",
    "P_losePossession_1vs1DF = P_keepAttacking_1vs1DF\n",
    "print( P_goal_1vs1DF, P_extraCorner_1vs1DF, P_keepAttacking_1vs1DF, P_losePossession_1vs1DF )"
   ]
  },
  {
   "cell_type": "code",
   "execution_count": null,
   "metadata": {},
   "outputs": [],
   "source": [
    "# near shot outcome draw\n",
    "P_goal_nearShot = (N_goals_match - N_penaltyGoals_match - N_directFreeKickGoals_match - N_indirectFreeKickGoals_match - N_cornerGoals_match - N_farShotGoals_match - N_1vs1GK_match * P_goal_1vs1GK - N_1vs1DF_match * P_goal_1vs1DF)/(N_openPlayChances_match*P_nearShot_chance)\n",
    "P_extraCorner_nearShot = P_extraCorner_chance\n",
    "P_keepAttacking_nearShot = (1 - P_goal_nearShot - P_extraCorner_nearShot) / 2\n",
    "P_losePossession_nearShot = P_keepAttacking_nearShot\n",
    "print( P_goal_nearShot, P_extraCorner_nearShot, P_keepAttacking_nearShot, P_losePossession_nearShot )\n"
   ]
  },
  {
   "cell_type": "code",
   "execution_count": null,
   "metadata": {},
   "outputs": [],
   "source": [
    "# Probability to keep the ball\n",
    "cornerFactor = P_extraCorner_chance/(1-P_extraCorner_chance)\n",
    "P_keepPossession_chance = (cornerFactor*P_keepAttacking_corner\n",
    "\t+ P_keepAttacking_corner*P_corner_chance\n",
    "\t+ P_keepAttacking_1vs1GK*P_1vs1GK_chance\n",
    "\t+ P_keepAttacking_1vs1DF*P_1vs1DF_chance\n",
    "\t+ P_keepAttacking_nearShot*P_nearShot_chance\n",
    "\t+ P_keepAttacking_farShot*P_farShot_chance)\n",
    "P_keepPossession_setPiece = (cornerFactor*P_keepAttacking_corner\n",
    "\t+ P_keepAttacking_penalty*P_penalty_setPiece\n",
    "\t+ P_keepAttacking_directFreeKick*P_directFreeKick_setPiece\n",
    "\t+ P_keepAttacking_indirectFreeKick*P_indirectFreeKick_setPiece)\n",
    "P_losePossession_chance = P_keepPossession_chance\n",
    "P_goal_chance = 1 - P_keepPossession_chance - P_losePossession_chance\n",
    "P_losePossession_setPiece = P_keepPossession_setPiece\n",
    "P_goal_setPiece = 1 - P_keepPossession_setPiece - P_losePossession_setPiece\n",
    "print(P_keepPossession_chance,P_losePossession_chance,P_goal_chance)\n",
    "print(P_keepPossession_setPiece,P_losePossession_setPiece,P_goal_setPiece)\n",
    "\n",
    "P_keepPossession = (P_keepPossession_possession*(P_noChance_keepPossession+P_chance_keepPossession*P_keepPossession_chance)\n",
    "\t+ P_foul_possession*(P_noSetPiece_foul+P_setPiece_foul*P_keepPossession_setPiece)\n",
    "\t+ P_counterAttack_possession*P_chance_counterAttack*(1-P_keepPossession_chance))\n",
    "print(P_keepPossession)"
   ]
  },
  {
   "cell_type": "markdown",
   "metadata": {},
   "source": [
    "After the reference probabilities have been set, it is time to give an example for the probabilities of every draw in the case there is a difference in skills between teams."
   ]
  },
  {
   "cell_type": "code",
   "execution_count": null,
   "metadata": {},
   "outputs": [],
   "source": [
    "# Skill ratio between both teams (defending over attacking team for the sake of this exercise)\n",
    "skillRatio = 1/1.1\n",
    "# Function returning the modified probability after clashing the teams skills\n",
    "def PModified( Pmax, P ):\n",
    "\treturn Pmax/(1+skillRatio*(Pmax-P)/P)\n",
    "# Function returning the modified probability after clashing the teams skills with inverted roles\n",
    "def PModifiedInverted( Pmax, P ):\n",
    "\treturn Pmax/(1+(Pmax-P)/(P*skillRatio))"
   ]
  },
  {
   "cell_type": "code",
   "execution_count": null,
   "metadata": {},
   "outputs": [],
   "source": [
    "# Possession draw\n",
    "Pbar_keepPossession_possession = PModified( 1 - P_foul_possession, P_keepPossession_possession )\n",
    "Pbar_foul_possession = P_foul_possession\n",
    "Pbar_counterAttack_possession = 1 - Pbar_keepPossession_possession - Pbar_foul_possession\n",
    "Pbar_inv_keepPossession_possession = PModifiedInverted( 1 - P_foul_possession, P_keepPossession_possession )\n",
    "Pbar_inv_foul_possession = P_foul_possession\n",
    "Pbar_inv_counterAttack_possession = 1 - Pbar_inv_keepPossession_possession - Pbar_inv_foul_possession\n",
    "print( P_keepPossession_possession, P_foul_possession, P_counterAttack_possession )\n",
    "print( Pbar_keepPossession_possession, Pbar_foul_possession, Pbar_counterAttack_possession )\n",
    "print( Pbar_inv_keepPossession_possession, Pbar_inv_foul_possession, Pbar_inv_counterAttack_possession )"
   ]
  },
  {
   "cell_type": "code",
   "execution_count": null,
   "metadata": {},
   "outputs": [],
   "source": [
    "# Chance draw after keeping possession\n",
    "Pbar_chance_keepPossession = PModified( 1, P_chance_keepPossession )\n",
    "Pbar_noChance_keepPossession = 1 - Pbar_chance_keepPossession\n",
    "Pbar_inv_chance_keepPossession = PModifiedInverted( 1, P_chance_keepPossession )\n",
    "Pbar_inv_noChance_keepPossession = 1 - Pbar_inv_chance_keepPossession\n",
    "print( P_chance_keepPossession, P_noChance_keepPossession )\n",
    "print( Pbar_chance_keepPossession, Pbar_noChance_keepPossession )\n",
    "print( Pbar_inv_chance_keepPossession, Pbar_inv_noChance_keepPossession )"
   ]
  },
  {
   "cell_type": "code",
   "execution_count": null,
   "metadata": {},
   "outputs": [],
   "source": [
    "# Chance draw after counter attack\n",
    "Pbar_chance_counterAttack = Pbar_chance_keepPossession\n",
    "Pbar_noChance_counterAttack = 1 - Pbar_chance_counterAttack\n",
    "Pbar_inv_chance_counterAttack = Pbar_inv_chance_keepPossession\n",
    "Pbar_inv_noChance_counterAttack = 1 - Pbar_inv_chance_counterAttack\n",
    "print( P_chance_counterAttack, P_noChance_counterAttack )\n",
    "print( Pbar_chance_counterAttack, Pbar_noChance_counterAttack )\n",
    "print( Pbar_inv_chance_counterAttack, Pbar_inv_noChance_counterAttack )"
   ]
  },
  {
   "cell_type": "code",
   "execution_count": null,
   "metadata": {},
   "outputs": [],
   "source": [
    "# Penalty outcome draw\n",
    "Pbar_goal_penalty = PModified( 1 - P_extraCorner_chance, P_goal_penalty )\n",
    "Pbar_extraCorner_penalty = P_extraCorner_chance\n",
    "Pbar_keepAttacking_penalty = (1 - Pbar_goal_penalty - Pbar_extraCorner_penalty) / 2\n",
    "Pbar_losePossession_penalty = Pbar_keepAttacking_penalty\n",
    "Pbar_inv_goal_penalty = PModifiedInverted( 1 - P_extraCorner_chance, P_goal_penalty )\n",
    "Pbar_inv_extraCorner_penalty = P_extraCorner_chance\n",
    "Pbar_inv_keepAttacking_penalty = (1 - Pbar_inv_goal_penalty - Pbar_inv_extraCorner_penalty) / 2\n",
    "Pbar_inv_losePossession_penalty = Pbar_inv_keepAttacking_penalty\n",
    "print( P_goal_penalty, P_extraCorner_penalty, P_keepAttacking_penalty, P_losePossession_penalty )\n",
    "print( Pbar_goal_penalty, Pbar_extraCorner_penalty, Pbar_keepAttacking_penalty, Pbar_losePossession_penalty )\n",
    "print( Pbar_inv_goal_penalty, Pbar_inv_extraCorner_penalty, Pbar_inv_keepAttacking_penalty, Pbar_inv_losePossession_penalty )"
   ]
  },
  {
   "cell_type": "code",
   "execution_count": null,
   "metadata": {},
   "outputs": [],
   "source": [
    "# Direct free kick outcome draw\n",
    "Pbar_goal_directFreeKick = PModified( 1 - P_extraCorner_chance, P_goal_directFreeKick )\n",
    "Pbar_extraCorner_directFreeKick = P_extraCorner_chance\n",
    "Pbar_keepAttacking_directFreeKick = (1 - Pbar_goal_directFreeKick - Pbar_extraCorner_directFreeKick) / 2\n",
    "Pbar_losePossession_directFreeKick = Pbar_keepAttacking_directFreeKick\n",
    "Pbar_inv_goal_directFreeKick = PModifiedInverted( 1 - P_extraCorner_chance, P_goal_directFreeKick )\n",
    "Pbar_inv_extraCorner_directFreeKick = P_extraCorner_chance\n",
    "Pbar_inv_keepAttacking_directFreeKick = (1 - Pbar_inv_goal_directFreeKick - Pbar_inv_extraCorner_directFreeKick) / 2\n",
    "Pbar_inv_losePossession_directFreeKick = Pbar_inv_keepAttacking_directFreeKick\n",
    "print( P_goal_directFreeKick, P_extraCorner_directFreeKick, P_keepAttacking_directFreeKick, P_losePossession_directFreeKick )\n",
    "print( Pbar_goal_directFreeKick, Pbar_extraCorner_directFreeKick, Pbar_keepAttacking_directFreeKick, Pbar_losePossession_directFreeKick )\n",
    "print( Pbar_inv_goal_directFreeKick, Pbar_inv_extraCorner_directFreeKick, Pbar_inv_keepAttacking_directFreeKick, Pbar_inv_losePossession_directFreeKick )"
   ]
  },
  {
   "cell_type": "code",
   "execution_count": null,
   "metadata": {},
   "outputs": [],
   "source": [
    "# Indirect free kick outcome draw\n",
    "Pbar_goal_indirectFreeKick = PModified( 1 - P_extraCorner_chance, P_goal_indirectFreeKick )\n",
    "Pbar_extraCorner_indirectFreeKick = P_extraCorner_chance\n",
    "Pbar_keepAttacking_indirectFreeKick = (1 - Pbar_goal_indirectFreeKick - Pbar_extraCorner_indirectFreeKick) / 2\n",
    "Pbar_losePossession_indirectFreeKick = Pbar_keepAttacking_indirectFreeKick\n",
    "Pbar_inv_goal_indirectFreeKick = PModifiedInverted( 1 - P_extraCorner_chance, P_goal_indirectFreeKick )\n",
    "Pbar_inv_extraCorner_indirectFreeKick = P_extraCorner_chance\n",
    "Pbar_inv_keepAttacking_indirectFreeKick = (1 - Pbar_inv_goal_indirectFreeKick - Pbar_inv_extraCorner_indirectFreeKick) / 2\n",
    "Pbar_inv_losePossession_indirectFreeKick = Pbar_inv_keepAttacking_indirectFreeKick\n",
    "print( P_goal_indirectFreeKick, P_extraCorner_indirectFreeKick, P_keepAttacking_indirectFreeKick, P_losePossession_indirectFreeKick )\n",
    "print( Pbar_goal_indirectFreeKick, Pbar_extraCorner_indirectFreeKick, Pbar_keepAttacking_indirectFreeKick, Pbar_losePossession_indirectFreeKick )\n",
    "print( Pbar_inv_goal_indirectFreeKick, Pbar_inv_extraCorner_indirectFreeKick, Pbar_inv_keepAttacking_indirectFreeKick, Pbar_inv_losePossession_indirectFreeKick )"
   ]
  },
  {
   "cell_type": "code",
   "execution_count": null,
   "metadata": {},
   "outputs": [],
   "source": [
    "# Corner kick outcome draw\n",
    "Pbar_goal_corner = PModified( 1 - P_extraCorner_chance, P_goal_corner )\n",
    "Pbar_extraCorner_corner = P_extraCorner_chance\n",
    "Pbar_keepAttacking_corner = (1 - Pbar_goal_corner - Pbar_extraCorner_corner) / 2\n",
    "Pbar_losePossession_corner = Pbar_keepAttacking_corner\n",
    "Pbar_inv_goal_corner = PModifiedInverted( 1 - P_extraCorner_chance, P_goal_corner )\n",
    "Pbar_inv_extraCorner_corner = P_extraCorner_chance\n",
    "Pbar_inv_keepAttacking_corner = (1 - Pbar_inv_goal_corner - Pbar_inv_extraCorner_corner) / 2\n",
    "Pbar_inv_losePossession_corner = Pbar_inv_keepAttacking_corner\n",
    "print( P_goal_corner, P_extraCorner_corner, P_keepAttacking_corner, P_losePossession_corner )\n",
    "print( Pbar_goal_corner, Pbar_extraCorner_corner, Pbar_keepAttacking_corner, Pbar_losePossession_corner )\n",
    "print( Pbar_inv_goal_corner, Pbar_inv_extraCorner_corner, Pbar_inv_keepAttacking_corner, Pbar_inv_losePossession_corner )"
   ]
  },
  {
   "cell_type": "code",
   "execution_count": null,
   "metadata": {},
   "outputs": [],
   "source": [
    "# Far shot outcome draw\n",
    "Pbar_goal_farShot = PModified( 1 - P_extraCorner_chance, P_goal_farShot )\n",
    "Pbar_extraCorner_farShot = P_extraCorner_chance\n",
    "Pbar_keepAttacking_farShot = (1 - Pbar_goal_farShot - Pbar_extraCorner_farShot) / 2\n",
    "Pbar_losePossession_farShot = Pbar_keepAttacking_farShot\n",
    "Pbar_inv_goal_farShot = PModifiedInverted( 1 - P_extraCorner_chance, P_goal_farShot )\n",
    "Pbar_inv_extraCorner_farShot = P_extraCorner_chance\n",
    "Pbar_inv_keepAttacking_farShot = (1 - Pbar_inv_goal_farShot - Pbar_inv_extraCorner_farShot) / 2\n",
    "Pbar_inv_losePossession_farShot = Pbar_inv_keepAttacking_farShot\n",
    "print( P_goal_farShot, P_extraCorner_farShot, P_keepAttacking_farShot, P_losePossession_farShot )\n",
    "print( Pbar_goal_farShot, Pbar_extraCorner_farShot, Pbar_keepAttacking_farShot, Pbar_losePossession_farShot )\n",
    "print( Pbar_inv_goal_farShot, Pbar_inv_extraCorner_farShot, Pbar_inv_keepAttacking_farShot, Pbar_inv_losePossession_farShot )"
   ]
  },
  {
   "cell_type": "code",
   "execution_count": null,
   "metadata": {},
   "outputs": [],
   "source": [
    "# 1 on 1 vs GK outcome draw\n",
    "Pbar_goal_1vs1GK = PModified( 1 - P_extraCorner_chance, P_goal_1vs1GK )\n",
    "Pbar_extraCorner_1vs1GK = P_extraCorner_chance\n",
    "Pbar_keepAttacking_1vs1GK = (1 - Pbar_goal_1vs1GK - Pbar_extraCorner_1vs1GK) / 2\n",
    "Pbar_losePossession_1vs1GK = Pbar_keepAttacking_1vs1GK\n",
    "Pbar_inv_goal_1vs1GK = PModifiedInverted( 1 - P_extraCorner_chance, P_goal_1vs1GK )\n",
    "Pbar_inv_extraCorner_1vs1GK = P_extraCorner_chance\n",
    "Pbar_inv_keepAttacking_1vs1GK = (1 - Pbar_inv_goal_1vs1GK - Pbar_inv_extraCorner_1vs1GK) / 2\n",
    "Pbar_inv_losePossession_1vs1GK = Pbar_inv_keepAttacking_1vs1GK\n",
    "print( P_goal_1vs1GK, P_extraCorner_1vs1GK, P_keepAttacking_1vs1GK, P_losePossession_1vs1GK )\n",
    "print( Pbar_goal_1vs1GK, Pbar_extraCorner_1vs1GK, Pbar_keepAttacking_1vs1GK, Pbar_losePossession_1vs1GK )\n",
    "print( Pbar_inv_goal_1vs1GK, Pbar_inv_extraCorner_1vs1GK, Pbar_inv_keepAttacking_1vs1GK, Pbar_inv_losePossession_1vs1GK )"
   ]
  },
  {
   "cell_type": "code",
   "execution_count": null,
   "metadata": {},
   "outputs": [],
   "source": [
    "# 1 on 1 vs DF outcome draw\n",
    "Pbar_goal_1vs1DF = PModified( 1 - P_extraCorner_chance, P_goal_1vs1DF )\n",
    "Pbar_extraCorner_1vs1DF = P_extraCorner_chance\n",
    "Pbar_keepAttacking_1vs1DF = (1 - Pbar_goal_1vs1DF - Pbar_extraCorner_1vs1DF) / 2\n",
    "Pbar_losePossession_1vs1DF = Pbar_keepAttacking_1vs1DF\n",
    "Pbar_inv_goal_1vs1DF = PModifiedInverted( 1 - P_extraCorner_chance, P_goal_1vs1DF )\n",
    "Pbar_inv_extraCorner_1vs1DF = P_extraCorner_chance\n",
    "Pbar_inv_keepAttacking_1vs1DF = (1 - Pbar_inv_goal_1vs1DF - Pbar_inv_extraCorner_1vs1DF) / 2\n",
    "Pbar_inv_losePossession_1vs1DF = Pbar_inv_keepAttacking_1vs1DF\n",
    "print( P_goal_1vs1DF, P_extraCorner_1vs1DF, P_keepAttacking_1vs1DF, P_losePossession_1vs1DF )\n",
    "print( Pbar_goal_1vs1DF, Pbar_extraCorner_1vs1DF, Pbar_keepAttacking_1vs1DF, Pbar_losePossession_1vs1DF )\n",
    "print( Pbar_inv_goal_1vs1DF, Pbar_inv_extraCorner_1vs1DF, Pbar_inv_keepAttacking_1vs1DF, Pbar_inv_losePossession_1vs1DF )"
   ]
  },
  {
   "cell_type": "code",
   "execution_count": null,
   "metadata": {},
   "outputs": [],
   "source": [
    "# Near shot outcome draw\n",
    "Pbar_goal_nearShot = PModified( 1 - P_extraCorner_chance, P_goal_nearShot )\n",
    "Pbar_extraCorner_nearShot = P_extraCorner_chance\n",
    "Pbar_keepAttacking_nearShot = (1 - Pbar_goal_nearShot - Pbar_extraCorner_nearShot) / 2\n",
    "Pbar_losePossession_nearShot = Pbar_keepAttacking_nearShot\n",
    "Pbar_inv_goal_nearShot = PModifiedInverted( 1 - P_extraCorner_chance, P_goal_nearShot )\n",
    "Pbar_inv_extraCorner_nearShot = P_extraCorner_chance\n",
    "Pbar_inv_keepAttacking_nearShot = (1 - Pbar_inv_goal_nearShot - Pbar_inv_extraCorner_nearShot) / 2\n",
    "Pbar_inv_losePossession_nearShot = Pbar_inv_keepAttacking_nearShot\n",
    "print( P_goal_nearShot, P_extraCorner_nearShot, P_keepAttacking_nearShot, P_losePossession_nearShot )\n",
    "print( Pbar_goal_nearShot, Pbar_extraCorner_nearShot, Pbar_keepAttacking_nearShot, Pbar_losePossession_nearShot )\n",
    "print( Pbar_inv_goal_nearShot, Pbar_inv_extraCorner_nearShot, Pbar_inv_keepAttacking_nearShot, Pbar_inv_losePossession_nearShot )"
   ]
  },
  {
   "cell_type": "code",
   "execution_count": null,
   "metadata": {},
   "outputs": [],
   "source": [
    "# Probability to keep the ball\n",
    "Pbar_keepPossession_chance = (cornerFactor*Pbar_keepAttacking_corner\n",
    "\t+ Pbar_keepAttacking_corner*P_corner_chance\n",
    "\t+ Pbar_keepAttacking_1vs1GK*P_1vs1GK_chance\n",
    "\t+ Pbar_keepAttacking_1vs1DF*P_1vs1DF_chance\n",
    "\t+ Pbar_keepAttacking_nearShot*P_nearShot_chance\n",
    "\t+ Pbar_keepAttacking_farShot*P_farShot_chance)\n",
    "Pbar_keepPossession_setPiece = (cornerFactor*Pbar_keepAttacking_corner\n",
    "\t+ Pbar_keepAttacking_penalty*P_penalty_setPiece\n",
    "\t+ Pbar_keepAttacking_directFreeKick*P_directFreeKick_setPiece\n",
    "\t+ Pbar_keepAttacking_indirectFreeKick*P_indirectFreeKick_setPiece)\n",
    "Pbar_losePossession_chance = Pbar_keepPossession_chance\n",
    "Pbar_goal_chance = 1 - Pbar_keepPossession_chance - Pbar_losePossession_chance\n",
    "Pbar_losePossession_setPiece = Pbar_keepPossession_setPiece\n",
    "Pbar_goal_setPiece = 1 - Pbar_keepPossession_setPiece - Pbar_losePossession_setPiece\n",
    "Pbar_inv_keepPossession_chance = (cornerFactor*Pbar_inv_keepAttacking_corner\n",
    "\t+ Pbar_inv_keepAttacking_corner*P_corner_chance\n",
    "\t+ Pbar_inv_keepAttacking_1vs1GK*P_1vs1GK_chance\n",
    "\t+ Pbar_inv_keepAttacking_1vs1DF*P_1vs1DF_chance\n",
    "\t+ Pbar_inv_keepAttacking_nearShot*P_nearShot_chance\n",
    "\t+ Pbar_inv_keepAttacking_farShot*P_farShot_chance)\n",
    "Pbar_inv_keepPossession_setPiece = (cornerFactor*Pbar_inv_keepAttacking_corner\n",
    "\t+ Pbar_inv_keepAttacking_penalty*P_penalty_setPiece\n",
    "\t+ Pbar_inv_keepAttacking_directFreeKick*P_directFreeKick_setPiece\n",
    "\t+ Pbar_inv_keepAttacking_indirectFreeKick*P_indirectFreeKick_setPiece)\n",
    "Pbar_inv_losePossession_chance = Pbar_inv_keepPossession_chance\n",
    "Pbar_inv_goal_chance = 1 - Pbar_inv_keepPossession_chance - Pbar_inv_losePossession_chance\n",
    "Pbar_inv_losePossession_setPiece = Pbar_inv_keepPossession_setPiece\n",
    "Pbar_inv_goal_setPiece = 1 - Pbar_inv_keepPossession_setPiece - Pbar_inv_losePossession_setPiece\n",
    "print(P_keepPossession_chance,P_losePossession_chance,P_goal_chance)\n",
    "print(Pbar_keepPossession_chance,Pbar_losePossession_chance,Pbar_goal_chance)\n",
    "print(Pbar_inv_keepPossession_chance,Pbar_inv_losePossession_chance,Pbar_inv_goal_chance)\n",
    "print(P_keepPossession_setPiece,P_losePossession_setPiece,P_goal_setPiece)\n",
    "print(Pbar_keepPossession_setPiece,Pbar_losePossession_setPiece,Pbar_goal_setPiece)\n",
    "print(Pbar_inv_keepPossession_setPiece,Pbar_inv_losePossession_setPiece,Pbar_inv_goal_setPiece)\n",
    "\n",
    "\n",
    "Pbar_keepPossession = (Pbar_keepPossession_possession*(Pbar_noChance_keepPossession+Pbar_chance_keepPossession*Pbar_keepPossession_chance)\n",
    "\t+ Pbar_foul_possession*(P_noSetPiece_foul+P_setPiece_foul*Pbar_keepPossession_setPiece)\n",
    "\t+ Pbar_counterAttack_possession*Pbar_inv_chance_counterAttack*(1-Pbar_inv_keepPossession_chance))\n",
    "Pbar_inv_keepPossession = (Pbar_inv_keepPossession_possession*(Pbar_inv_noChance_keepPossession+Pbar_inv_chance_keepPossession*Pbar_inv_keepPossession_chance)\n",
    "\t+ Pbar_inv_foul_possession*(P_noSetPiece_foul+P_setPiece_foul*Pbar_inv_keepPossession_setPiece)\n",
    "\t+ Pbar_inv_counterAttack_possession*Pbar_chance_counterAttack*(1-Pbar_keepPossession_chance))\n",
    "print(P_keepPossession)\n",
    "print(Pbar_keepPossession)\n",
    "print(Pbar_inv_keepPossession)\n",
    "\n",
    "def Possession( PH, PA, n = 45 ) :\n",
    "\treturn (1+(PH-PA)*(math.pow(PH+PA-1,n)-n*(PH+PA-2)-1)/(n*math.pow(PH+PA-2,2)))/2\n",
    "Pbar_possession = Possession( Pbar_keepPossession, Pbar_inv_keepPossession )\n",
    "Pbar_inv_possession = 1 - Pbar_possession\n",
    "print(Pbar_possession, Pbar_inv_possession)"
   ]
  },
  {
   "cell_type": "code",
   "execution_count": null,
   "metadata": {},
   "outputs": [],
   "source": [
    "# Open play chance probability\n",
    "P_chance = (0.5*P_keepPossession_possession*P_chance_keepPossession\n",
    "\t\t\t   + 0.5*P_counterAttack_possession*P_chance_counterAttack)\n",
    "Pbar_chance = (Pbar_possession*Pbar_keepPossession_possession*Pbar_chance_keepPossession\n",
    "\t\t\t   + Pbar_inv_possession*Pbar_inv_counterAttack_possession*Pbar_chance_counterAttack)\n",
    "Pbar_inv_chance = (Pbar_inv_possession*Pbar_inv_keepPossession_possession*Pbar_inv_chance_keepPossession\n",
    "\t\t\t   + Pbar_possession*Pbar_counterAttack_possession*Pbar_inv_chance_counterAttack)\n",
    "print(P_chance, N_openPlayChances_match/180)\n",
    "print(Pbar_chance)\n",
    "print(Pbar_inv_chance)"
   ]
  },
  {
   "cell_type": "code",
   "execution_count": null,
   "metadata": {},
   "outputs": [],
   "source": [
    "# Set piece probability\n",
    "P_setPiece = 0.5*P_foul_possession*P_setPiece_foul\n",
    "Pbar_setPiece = Pbar_possession*Pbar_foul_possession*P_setPiece_foul\n",
    "Pbar_inv_setPiece = Pbar_inv_possession*Pbar_inv_foul_possession*P_setPiece_foul\n",
    "print(P_setPiece, N_setPieces_match/180)\n",
    "print(Pbar_setPiece)\n",
    "print(Pbar_inv_setPiece)"
   ]
  },
  {
   "cell_type": "code",
   "execution_count": null,
   "metadata": {},
   "outputs": [],
   "source": [
    "# Total chance probability\n",
    "P_totalChance = 0.5/(1-P_extraCorner_chance)*(P_chance_keepPossession*(1-P_foul_possession)+P_foul_possession*P_setPiece_foul)\n",
    "Pbar_totalChance = 1/(1-P_extraCorner_chance)*(Pbar_possession*Pbar_chance_keepPossession*(1-Pbar_foul_possession)+Pbar_inv_possession*Pbar_foul_possession*P_setPiece_foul)\n",
    "Pbar_inv_totalChance = 1/(1-P_extraCorner_chance)*(Pbar_inv_possession*Pbar_inv_chance_keepPossession*(1-Pbar_inv_foul_possession)+Pbar_possession*Pbar_inv_foul_possession*P_setPiece_foul)\n",
    "print(P_totalChance, N_chances_match/180)\n",
    "print(Pbar_totalChance*90)\n",
    "print(Pbar_inv_totalChance*90)"
   ]
  },
  {
   "cell_type": "code",
   "execution_count": null,
   "metadata": {},
   "outputs": [],
   "source": [
    "# Goal probability\n",
    "P_goal = P_goal_setPiece * P_setPiece + P_goal_chance * P_chance\n",
    "Pbar_goal = Pbar_goal_setPiece * Pbar_setPiece + Pbar_goal_chance * Pbar_chance\n",
    "Pbar_inv_goal = Pbar_inv_goal_setPiece * Pbar_inv_setPiece + Pbar_inv_goal_chance * Pbar_inv_chance\n",
    "print(P_goal, N_goals_match/180)\n",
    "print(Pbar_goal*90)\n",
    "print(Pbar_inv_goal*90)"
   ]
  },
  {
   "cell_type": "code",
   "execution_count": null,
   "metadata": {},
   "outputs": [],
   "source": [
    "# Assist probability\n",
    "N_assists_match = 726/380\n",
    "P_assist = P_goal_indirectFreeKick * P_indirectFreeKick_setPiece * P_setPiece + N_cornerGoals_match / 180 + P_goal_1vs1GK * P_1vs1GK_chance * P_chance + P_goal_1vs1DF * P_1vs1DF_chance * P_chance\n",
    "print(P_assist*180, N_assists_match) # Should not be equal, but close to keep realism"
   ]
  },
  {
   "cell_type": "code",
   "execution_count": null,
   "metadata": {},
   "outputs": [],
   "source": [
    "# Number of expected saves per match\n",
    "N_expected_saves_match = ((P_extraCorner_penalty+P_keepAttacking_penalty)*P_penalty_setPiece*P_setPiece\n",
    "\t\t+(P_extraCorner_directFreeKick+P_keepAttacking_directFreeKick)*P_directFreeKick_setPiece*P_setPiece\n",
    "\t\t+(P_extraCorner_indirectFreeKick+P_keepAttacking_indirectFreeKick)*0.5*P_indirectFreeKick_setPiece*P_setPiece\n",
    "\t\t+(P_extraCorner_corner+P_keepAttacking_corner)*0.5*N_corners_match/180\n",
    "\t\t+(P_extraCorner_farShot+P_keepAttacking_farShot)*P_farShot_chance*P_chance\n",
    "\t\t+(P_extraCorner_1vs1GK+P_keepAttacking_1vs1GK)*P_1vs1GK_chance*P_chance\n",
    "\t\t+(P_extraCorner_1vs1DF+P_keepAttacking_1vs1DF)*0.5*P_1vs1DF_chance*P_chance\n",
    "\t\t+(P_extraCorner_nearShot+P_keepAttacking_nearShot)*P_nearShot_chance*P_chance)*180\n",
    "print(N_expected_saves_match)"
   ]
  },
  {
   "cell_type": "code",
   "execution_count": null,
   "metadata": {},
   "outputs": [],
   "source": [
    "# Number of expected defensive actions per match\n",
    "N_expected_intercepts_match = (P_counterAttack_possession*0.5\n",
    "\t\t+(P_extraCorner_indirectFreeKick+P_keepAttacking_indirectFreeKick)*0.5*P_indirectFreeKick_setPiece*P_setPiece\n",
    "\t\t+(P_extraCorner_corner+P_keepAttacking_corner)*0.5*N_corners_match/180\n",
    "\t\t+(P_extraCorner_1vs1DF+P_keepAttacking_1vs1DF)*0.5*P_1vs1DF_chance*P_chance\n",
    "\t\t)*180\n",
    "print(N_expected_intercepts_match)"
   ]
  },
  {
   "cell_type": "code",
   "execution_count": null,
   "metadata": {},
   "outputs": [],
   "source": [
    "# Number of expected passes per match\n",
    "N_expected_passes_match = (P_keepPossession*0.5\n",
    "\t\t+(P_goal_indirectFreeKick+P_losePossession_indirectFreeKick+0.5*(P_extraCorner_indirectFreeKick+P_keepAttacking_indirectFreeKick))*P_indirectFreeKick_setPiece*P_setPiece\n",
    "\t\t+(P_goal_corner+P_losePossession_corner+0.5*(P_extraCorner_corner+P_keepAttacking_corner))*N_corners_match/180\n",
    "\t\t+P_1vs1GK_chance*P_chance\n",
    "\t\t+(P_goal_1vs1DF+P_losePossession_1vs1DF+0.5*(P_extraCorner_1vs1DF+P_keepAttacking_1vs1DF))*P_1vs1DF_chance*P_chance\n",
    "\t\t)*180\n",
    "print(N_expected_passes_match)"
   ]
  },
  {
   "cell_type": "code",
   "execution_count": null,
   "metadata": {},
   "outputs": [],
   "source": [
    "# Number of expected shots per match\n",
    "N_expected_shots_match = (P_penalty_setPiece*P_setPiece\n",
    "\t\t+P_directFreeKick_setPiece*P_setPiece\n",
    "\t\t+(P_goal_indirectFreeKick+P_losePossession_indirectFreeKick+0.5*(P_extraCorner_indirectFreeKick+P_keepAttacking_indirectFreeKick))*P_indirectFreeKick_setPiece*P_setPiece\n",
    "\t\t+(P_goal_corner+P_losePossession_corner+0.5*(P_extraCorner_corner+P_keepAttacking_corner))*N_corners_match/180\n",
    "\t\t+P_farShot_chance*P_chance\n",
    "\t\t+P_1vs1GK_chance*P_chance\n",
    "\t\t+(P_goal_1vs1DF+P_losePossession_1vs1DF+0.5*(P_extraCorner_1vs1DF+P_keepAttacking_1vs1DF))*P_1vs1DF_chance*P_chance\n",
    "\t\t+P_nearShot_chance*P_chance\n",
    "\t\t)*180\n",
    "print(N_expected_shots_match)"
   ]
  }
 ],
 "metadata": {
  "kernelspec": {
   "display_name": "Python 3",
   "language": "python",
   "name": "python3"
  },
  "language_info": {
   "codemirror_mode": {
    "name": "ipython",
    "version": 3
   },
   "file_extension": ".py",
   "mimetype": "text/x-python",
   "name": "python",
   "nbconvert_exporter": "python",
   "pygments_lexer": "ipython3",
   "version": "3.12.0"
  }
 },
 "nbformat": 4,
 "nbformat_minor": 2
}
