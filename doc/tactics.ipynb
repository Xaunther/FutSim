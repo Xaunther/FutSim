{
 "cells": [
  {
   "cell_type": "code",
   "execution_count": null,
   "metadata": {},
   "outputs": [],
   "source": [
    "# Penalties to the bonus of an ability\n",
    "a0 = 0\n",
    "a1 = -0.2\n",
    "a2 = -0.4"
   ]
  },
  {
   "cell_type": "code",
   "execution_count": null,
   "metadata": {},
   "outputs": [],
   "source": [
    "# Function that creates the bonus matrix\n",
    "def T( bonusTK, bonusPS ) :\n",
    "\tbonusSH = - bonusTK - bonusPS\n",
    "\tresult = [[ 0, bonusPS/3+a1, bonusSH/3+a2 ],\n",
    "\t\t[ bonusTK/3+a0, 0, bonusSH/3+(a1+a2)/2 ],\n",
    "\t\t[ bonusTK/3+a1, 0, bonusSH/3+a1 ],\n",
    "\t\t[ bonusTK/3+(a1+a2)/2, 0, bonusSH/3+a0 ],\n",
    "\t\t[ bonusTK/3+a2, bonusPS/3+a1, 0 ]]\n",
    "\tresult[0][0] = -sum(result[0])\n",
    "\tresult[1][1] = -sum(result[1])\n",
    "\tresult[2][1] = -sum(result[2])\n",
    "\tresult[3][1] = -sum(result[3])\n",
    "\tresult[4][2] = -sum(result[4])\n",
    "\treturn result"
   ]
  },
  {
   "cell_type": "code",
   "execution_count": null,
   "metadata": {},
   "outputs": [],
   "source": [
    "# Tactic N\n",
    "for l in T(0,0) :\n",
    "\tprint([round( i * 10 ) for i in l])"
   ]
  },
  {
   "cell_type": "code",
   "execution_count": null,
   "metadata": {},
   "outputs": [],
   "source": [
    "# Tactic A\n",
    "for l in T(-0.5,-0.2) :\n",
    "\tprint([round( i * 30 ) for i in l])"
   ]
  },
  {
   "cell_type": "code",
   "execution_count": null,
   "metadata": {},
   "outputs": [],
   "source": [
    "# Tactic D\n",
    "for l in T(0.7,-0.2) :\n",
    "\tprint([round( i * 30 ) for i in l])"
   ]
  },
  {
   "cell_type": "code",
   "execution_count": null,
   "metadata": {},
   "outputs": [],
   "source": [
    "# Tactic L\n",
    "for l in T(0.3,-0.6) :\n",
    "\tprint([round( i * 10 ) for i in l])"
   ]
  },
  {
   "cell_type": "code",
   "execution_count": null,
   "metadata": {},
   "outputs": [],
   "source": [
    "# Tactic C\n",
    "for l in T(0.5,-0.8) :\n",
    "\tprint([round( i * 30 ) for i in l])"
   ]
  },
  {
   "cell_type": "code",
   "execution_count": null,
   "metadata": {},
   "outputs": [],
   "source": [
    "# Tactic P\n",
    "for l in T(-0.2,0.6) :\n",
    "\tprint([round( i * 30 ) for i in l])"
   ]
  },
  {
   "cell_type": "code",
   "execution_count": null,
   "metadata": {},
   "outputs": [],
   "source": [
    "# Tactic E\n",
    "for l in T(-0.3,0.2) :\n",
    "\tprint([round( i * 30 ) for i in l])"
   ]
  }
 ],
 "metadata": {
  "kernelspec": {
   "display_name": "Python 3",
   "language": "python",
   "name": "python3"
  },
  "language_info": {
   "codemirror_mode": {
    "name": "ipython",
    "version": 3
   },
   "file_extension": ".py",
   "mimetype": "text/x-python",
   "name": "python",
   "nbconvert_exporter": "python",
   "pygments_lexer": "ipython3",
   "version": "3.12.0"
  }
 },
 "nbformat": 4,
 "nbformat_minor": 2
}
